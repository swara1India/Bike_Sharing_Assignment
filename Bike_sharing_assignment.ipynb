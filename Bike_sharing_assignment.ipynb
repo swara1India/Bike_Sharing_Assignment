{
 "cells": [
  {
   "cell_type": "code",
   "execution_count": 78,
   "id": "3084485c-d98c-4ee1-ab40-eb677e466a20",
   "metadata": {},
   "outputs": [
    {
     "data": {
      "text/html": [
       "<div>\n",
       "<style scoped>\n",
       "    .dataframe tbody tr th:only-of-type {\n",
       "        vertical-align: middle;\n",
       "    }\n",
       "\n",
       "    .dataframe tbody tr th {\n",
       "        vertical-align: top;\n",
       "    }\n",
       "\n",
       "    .dataframe thead th {\n",
       "        text-align: right;\n",
       "    }\n",
       "</style>\n",
       "<table border=\"1\" class=\"dataframe\">\n",
       "  <thead>\n",
       "    <tr style=\"text-align: right;\">\n",
       "      <th></th>\n",
       "      <th>instant</th>\n",
       "      <th>dteday</th>\n",
       "      <th>season</th>\n",
       "      <th>yr</th>\n",
       "      <th>mnth</th>\n",
       "      <th>holiday</th>\n",
       "      <th>weekday</th>\n",
       "      <th>workingday</th>\n",
       "      <th>weathersit</th>\n",
       "      <th>temp</th>\n",
       "      <th>atemp</th>\n",
       "      <th>hum</th>\n",
       "      <th>windspeed</th>\n",
       "      <th>casual</th>\n",
       "      <th>registered</th>\n",
       "      <th>cnt</th>\n",
       "    </tr>\n",
       "  </thead>\n",
       "  <tbody>\n",
       "    <tr>\n",
       "      <th>0</th>\n",
       "      <td>1</td>\n",
       "      <td>01-01-2018</td>\n",
       "      <td>1</td>\n",
       "      <td>0</td>\n",
       "      <td>1</td>\n",
       "      <td>0</td>\n",
       "      <td>6</td>\n",
       "      <td>0</td>\n",
       "      <td>2</td>\n",
       "      <td>14.110847</td>\n",
       "      <td>18.18125</td>\n",
       "      <td>80.5833</td>\n",
       "      <td>10.749882</td>\n",
       "      <td>331</td>\n",
       "      <td>654</td>\n",
       "      <td>985</td>\n",
       "    </tr>\n",
       "    <tr>\n",
       "      <th>1</th>\n",
       "      <td>2</td>\n",
       "      <td>02-01-2018</td>\n",
       "      <td>1</td>\n",
       "      <td>0</td>\n",
       "      <td>1</td>\n",
       "      <td>0</td>\n",
       "      <td>0</td>\n",
       "      <td>0</td>\n",
       "      <td>2</td>\n",
       "      <td>14.902598</td>\n",
       "      <td>17.68695</td>\n",
       "      <td>69.6087</td>\n",
       "      <td>16.652113</td>\n",
       "      <td>131</td>\n",
       "      <td>670</td>\n",
       "      <td>801</td>\n",
       "    </tr>\n",
       "    <tr>\n",
       "      <th>2</th>\n",
       "      <td>3</td>\n",
       "      <td>03-01-2018</td>\n",
       "      <td>1</td>\n",
       "      <td>0</td>\n",
       "      <td>1</td>\n",
       "      <td>0</td>\n",
       "      <td>1</td>\n",
       "      <td>1</td>\n",
       "      <td>1</td>\n",
       "      <td>8.050924</td>\n",
       "      <td>9.47025</td>\n",
       "      <td>43.7273</td>\n",
       "      <td>16.636703</td>\n",
       "      <td>120</td>\n",
       "      <td>1229</td>\n",
       "      <td>1349</td>\n",
       "    </tr>\n",
       "    <tr>\n",
       "      <th>3</th>\n",
       "      <td>4</td>\n",
       "      <td>04-01-2018</td>\n",
       "      <td>1</td>\n",
       "      <td>0</td>\n",
       "      <td>1</td>\n",
       "      <td>0</td>\n",
       "      <td>2</td>\n",
       "      <td>1</td>\n",
       "      <td>1</td>\n",
       "      <td>8.200000</td>\n",
       "      <td>10.60610</td>\n",
       "      <td>59.0435</td>\n",
       "      <td>10.739832</td>\n",
       "      <td>108</td>\n",
       "      <td>1454</td>\n",
       "      <td>1562</td>\n",
       "    </tr>\n",
       "    <tr>\n",
       "      <th>4</th>\n",
       "      <td>5</td>\n",
       "      <td>05-01-2018</td>\n",
       "      <td>1</td>\n",
       "      <td>0</td>\n",
       "      <td>1</td>\n",
       "      <td>0</td>\n",
       "      <td>3</td>\n",
       "      <td>1</td>\n",
       "      <td>1</td>\n",
       "      <td>9.305237</td>\n",
       "      <td>11.46350</td>\n",
       "      <td>43.6957</td>\n",
       "      <td>12.522300</td>\n",
       "      <td>82</td>\n",
       "      <td>1518</td>\n",
       "      <td>1600</td>\n",
       "    </tr>\n",
       "    <tr>\n",
       "      <th>...</th>\n",
       "      <td>...</td>\n",
       "      <td>...</td>\n",
       "      <td>...</td>\n",
       "      <td>...</td>\n",
       "      <td>...</td>\n",
       "      <td>...</td>\n",
       "      <td>...</td>\n",
       "      <td>...</td>\n",
       "      <td>...</td>\n",
       "      <td>...</td>\n",
       "      <td>...</td>\n",
       "      <td>...</td>\n",
       "      <td>...</td>\n",
       "      <td>...</td>\n",
       "      <td>...</td>\n",
       "      <td>...</td>\n",
       "    </tr>\n",
       "    <tr>\n",
       "      <th>725</th>\n",
       "      <td>726</td>\n",
       "      <td>27-12-2019</td>\n",
       "      <td>1</td>\n",
       "      <td>1</td>\n",
       "      <td>12</td>\n",
       "      <td>0</td>\n",
       "      <td>4</td>\n",
       "      <td>1</td>\n",
       "      <td>2</td>\n",
       "      <td>10.420847</td>\n",
       "      <td>11.33210</td>\n",
       "      <td>65.2917</td>\n",
       "      <td>23.458911</td>\n",
       "      <td>247</td>\n",
       "      <td>1867</td>\n",
       "      <td>2114</td>\n",
       "    </tr>\n",
       "    <tr>\n",
       "      <th>726</th>\n",
       "      <td>727</td>\n",
       "      <td>28-12-2019</td>\n",
       "      <td>1</td>\n",
       "      <td>1</td>\n",
       "      <td>12</td>\n",
       "      <td>0</td>\n",
       "      <td>5</td>\n",
       "      <td>1</td>\n",
       "      <td>2</td>\n",
       "      <td>10.386653</td>\n",
       "      <td>12.75230</td>\n",
       "      <td>59.0000</td>\n",
       "      <td>10.416557</td>\n",
       "      <td>644</td>\n",
       "      <td>2451</td>\n",
       "      <td>3095</td>\n",
       "    </tr>\n",
       "    <tr>\n",
       "      <th>727</th>\n",
       "      <td>728</td>\n",
       "      <td>29-12-2019</td>\n",
       "      <td>1</td>\n",
       "      <td>1</td>\n",
       "      <td>12</td>\n",
       "      <td>0</td>\n",
       "      <td>6</td>\n",
       "      <td>0</td>\n",
       "      <td>2</td>\n",
       "      <td>10.386653</td>\n",
       "      <td>12.12000</td>\n",
       "      <td>75.2917</td>\n",
       "      <td>8.333661</td>\n",
       "      <td>159</td>\n",
       "      <td>1182</td>\n",
       "      <td>1341</td>\n",
       "    </tr>\n",
       "    <tr>\n",
       "      <th>728</th>\n",
       "      <td>729</td>\n",
       "      <td>30-12-2019</td>\n",
       "      <td>1</td>\n",
       "      <td>1</td>\n",
       "      <td>12</td>\n",
       "      <td>0</td>\n",
       "      <td>0</td>\n",
       "      <td>0</td>\n",
       "      <td>1</td>\n",
       "      <td>10.489153</td>\n",
       "      <td>11.58500</td>\n",
       "      <td>48.3333</td>\n",
       "      <td>23.500518</td>\n",
       "      <td>364</td>\n",
       "      <td>1432</td>\n",
       "      <td>1796</td>\n",
       "    </tr>\n",
       "    <tr>\n",
       "      <th>729</th>\n",
       "      <td>730</td>\n",
       "      <td>31-12-2019</td>\n",
       "      <td>1</td>\n",
       "      <td>1</td>\n",
       "      <td>12</td>\n",
       "      <td>0</td>\n",
       "      <td>1</td>\n",
       "      <td>1</td>\n",
       "      <td>2</td>\n",
       "      <td>8.849153</td>\n",
       "      <td>11.17435</td>\n",
       "      <td>57.7500</td>\n",
       "      <td>10.374682</td>\n",
       "      <td>439</td>\n",
       "      <td>2290</td>\n",
       "      <td>2729</td>\n",
       "    </tr>\n",
       "  </tbody>\n",
       "</table>\n",
       "<p>730 rows × 16 columns</p>\n",
       "</div>"
      ],
      "text/plain": [
       "     instant      dteday  season  yr  mnth  holiday  weekday  workingday  \\\n",
       "0          1  01-01-2018       1   0     1        0        6           0   \n",
       "1          2  02-01-2018       1   0     1        0        0           0   \n",
       "2          3  03-01-2018       1   0     1        0        1           1   \n",
       "3          4  04-01-2018       1   0     1        0        2           1   \n",
       "4          5  05-01-2018       1   0     1        0        3           1   \n",
       "..       ...         ...     ...  ..   ...      ...      ...         ...   \n",
       "725      726  27-12-2019       1   1    12        0        4           1   \n",
       "726      727  28-12-2019       1   1    12        0        5           1   \n",
       "727      728  29-12-2019       1   1    12        0        6           0   \n",
       "728      729  30-12-2019       1   1    12        0        0           0   \n",
       "729      730  31-12-2019       1   1    12        0        1           1   \n",
       "\n",
       "     weathersit       temp     atemp      hum  windspeed  casual  registered  \\\n",
       "0             2  14.110847  18.18125  80.5833  10.749882     331         654   \n",
       "1             2  14.902598  17.68695  69.6087  16.652113     131         670   \n",
       "2             1   8.050924   9.47025  43.7273  16.636703     120        1229   \n",
       "3             1   8.200000  10.60610  59.0435  10.739832     108        1454   \n",
       "4             1   9.305237  11.46350  43.6957  12.522300      82        1518   \n",
       "..          ...        ...       ...      ...        ...     ...         ...   \n",
       "725           2  10.420847  11.33210  65.2917  23.458911     247        1867   \n",
       "726           2  10.386653  12.75230  59.0000  10.416557     644        2451   \n",
       "727           2  10.386653  12.12000  75.2917   8.333661     159        1182   \n",
       "728           1  10.489153  11.58500  48.3333  23.500518     364        1432   \n",
       "729           2   8.849153  11.17435  57.7500  10.374682     439        2290   \n",
       "\n",
       "      cnt  \n",
       "0     985  \n",
       "1     801  \n",
       "2    1349  \n",
       "3    1562  \n",
       "4    1600  \n",
       "..    ...  \n",
       "725  2114  \n",
       "726  3095  \n",
       "727  1341  \n",
       "728  1796  \n",
       "729  2729  \n",
       "\n",
       "[730 rows x 16 columns]"
      ]
     },
     "execution_count": 78,
     "metadata": {},
     "output_type": "execute_result"
    }
   ],
   "source": [
    "import pandas as pd\n",
    "import numpy as np\n",
    "import matplotlib.pyplot as plt\n",
    "import seaborn as sns\n",
    "from sklearn.model_selection import train_test_split\n",
    "import warnings\n",
    "warnings.filterwarnings('ignore')\n",
    "import os\n",
    "\n",
    "\n",
    "bs = pd.read_csv(\"day.csv\")\n",
    "bs"
   ]
  },
  {
   "cell_type": "code",
   "execution_count": 7,
   "id": "00506519-50ea-472f-973a-fed02a8e65bc",
   "metadata": {
    "tags": []
   },
   "outputs": [
    {
     "data": {
      "text/plain": [
       "(730, 16)"
      ]
     },
     "execution_count": 7,
     "metadata": {},
     "output_type": "execute_result"
    }
   ],
   "source": [
    "#bs.shape"
   ]
  },
  {
   "cell_type": "code",
   "execution_count": 8,
   "id": "04bcd83e-8fca-4725-86a7-a4c70699ca32",
   "metadata": {
    "tags": []
   },
   "outputs": [
    {
     "data": {
      "text/plain": [
       "instant         int64\n",
       "dteday         object\n",
       "season          int64\n",
       "yr              int64\n",
       "mnth            int64\n",
       "holiday         int64\n",
       "weekday         int64\n",
       "workingday      int64\n",
       "weathersit      int64\n",
       "temp          float64\n",
       "atemp         float64\n",
       "hum           float64\n",
       "windspeed     float64\n",
       "casual          int64\n",
       "registered      int64\n",
       "cnt             int64\n",
       "dtype: object"
      ]
     },
     "execution_count": 8,
     "metadata": {},
     "output_type": "execute_result"
    }
   ],
   "source": [
    "#bs.dtypes"
   ]
  },
  {
   "cell_type": "code",
   "execution_count": 80,
   "id": "4ff2e58f-f719-4447-9ad7-9e9154f3330e",
   "metadata": {
    "tags": []
   },
   "outputs": [
    {
     "data": {
      "text/html": [
       "<div>\n",
       "<style scoped>\n",
       "    .dataframe tbody tr th:only-of-type {\n",
       "        vertical-align: middle;\n",
       "    }\n",
       "\n",
       "    .dataframe tbody tr th {\n",
       "        vertical-align: top;\n",
       "    }\n",
       "\n",
       "    .dataframe thead th {\n",
       "        text-align: right;\n",
       "    }\n",
       "</style>\n",
       "<table border=\"1\" class=\"dataframe\">\n",
       "  <thead>\n",
       "    <tr style=\"text-align: right;\">\n",
       "      <th></th>\n",
       "      <th>record_index</th>\n",
       "      <th>datetime</th>\n",
       "      <th>season</th>\n",
       "      <th>year</th>\n",
       "      <th>month</th>\n",
       "      <th>holiday</th>\n",
       "      <th>weekday</th>\n",
       "      <th>workingday</th>\n",
       "      <th>weather_status</th>\n",
       "      <th>temp</th>\n",
       "      <th>feeling_temp</th>\n",
       "      <th>humidity</th>\n",
       "      <th>windspeed</th>\n",
       "      <th>casual</th>\n",
       "      <th>registered</th>\n",
       "      <th>shring_count</th>\n",
       "    </tr>\n",
       "  </thead>\n",
       "  <tbody>\n",
       "    <tr>\n",
       "      <th>0</th>\n",
       "      <td>1</td>\n",
       "      <td>01-01-2018</td>\n",
       "      <td>1</td>\n",
       "      <td>0</td>\n",
       "      <td>1</td>\n",
       "      <td>0</td>\n",
       "      <td>6</td>\n",
       "      <td>0</td>\n",
       "      <td>2</td>\n",
       "      <td>14.110847</td>\n",
       "      <td>18.18125</td>\n",
       "      <td>80.5833</td>\n",
       "      <td>10.749882</td>\n",
       "      <td>331</td>\n",
       "      <td>654</td>\n",
       "      <td>985</td>\n",
       "    </tr>\n",
       "    <tr>\n",
       "      <th>1</th>\n",
       "      <td>2</td>\n",
       "      <td>02-01-2018</td>\n",
       "      <td>1</td>\n",
       "      <td>0</td>\n",
       "      <td>1</td>\n",
       "      <td>0</td>\n",
       "      <td>0</td>\n",
       "      <td>0</td>\n",
       "      <td>2</td>\n",
       "      <td>14.902598</td>\n",
       "      <td>17.68695</td>\n",
       "      <td>69.6087</td>\n",
       "      <td>16.652113</td>\n",
       "      <td>131</td>\n",
       "      <td>670</td>\n",
       "      <td>801</td>\n",
       "    </tr>\n",
       "    <tr>\n",
       "      <th>2</th>\n",
       "      <td>3</td>\n",
       "      <td>03-01-2018</td>\n",
       "      <td>1</td>\n",
       "      <td>0</td>\n",
       "      <td>1</td>\n",
       "      <td>0</td>\n",
       "      <td>1</td>\n",
       "      <td>1</td>\n",
       "      <td>1</td>\n",
       "      <td>8.050924</td>\n",
       "      <td>9.47025</td>\n",
       "      <td>43.7273</td>\n",
       "      <td>16.636703</td>\n",
       "      <td>120</td>\n",
       "      <td>1229</td>\n",
       "      <td>1349</td>\n",
       "    </tr>\n",
       "    <tr>\n",
       "      <th>3</th>\n",
       "      <td>4</td>\n",
       "      <td>04-01-2018</td>\n",
       "      <td>1</td>\n",
       "      <td>0</td>\n",
       "      <td>1</td>\n",
       "      <td>0</td>\n",
       "      <td>2</td>\n",
       "      <td>1</td>\n",
       "      <td>1</td>\n",
       "      <td>8.200000</td>\n",
       "      <td>10.60610</td>\n",
       "      <td>59.0435</td>\n",
       "      <td>10.739832</td>\n",
       "      <td>108</td>\n",
       "      <td>1454</td>\n",
       "      <td>1562</td>\n",
       "    </tr>\n",
       "    <tr>\n",
       "      <th>4</th>\n",
       "      <td>5</td>\n",
       "      <td>05-01-2018</td>\n",
       "      <td>1</td>\n",
       "      <td>0</td>\n",
       "      <td>1</td>\n",
       "      <td>0</td>\n",
       "      <td>3</td>\n",
       "      <td>1</td>\n",
       "      <td>1</td>\n",
       "      <td>9.305237</td>\n",
       "      <td>11.46350</td>\n",
       "      <td>43.6957</td>\n",
       "      <td>12.522300</td>\n",
       "      <td>82</td>\n",
       "      <td>1518</td>\n",
       "      <td>1600</td>\n",
       "    </tr>\n",
       "  </tbody>\n",
       "</table>\n",
       "</div>"
      ],
      "text/plain": [
       "   record_index    datetime  season  year  month  holiday  weekday  \\\n",
       "0             1  01-01-2018       1     0      1        0        6   \n",
       "1             2  02-01-2018       1     0      1        0        0   \n",
       "2             3  03-01-2018       1     0      1        0        1   \n",
       "3             4  04-01-2018       1     0      1        0        2   \n",
       "4             5  05-01-2018       1     0      1        0        3   \n",
       "\n",
       "   workingday  weather_status       temp  feeling_temp  humidity  windspeed  \\\n",
       "0           0               2  14.110847      18.18125   80.5833  10.749882   \n",
       "1           0               2  14.902598      17.68695   69.6087  16.652113   \n",
       "2           1               1   8.050924       9.47025   43.7273  16.636703   \n",
       "3           1               1   8.200000      10.60610   59.0435  10.739832   \n",
       "4           1               1   9.305237      11.46350   43.6957  12.522300   \n",
       "\n",
       "   casual  registered  shring_count  \n",
       "0     331         654           985  \n",
       "1     131         670           801  \n",
       "2     120        1229          1349  \n",
       "3     108        1454          1562  \n",
       "4      82        1518          1600  "
      ]
     },
     "execution_count": 80,
     "metadata": {},
     "output_type": "execute_result"
    }
   ],
   "source": [
    "#Curate Column Names\n",
    "#bs.head(10)\n",
    "bs.rename( columns = { 'instant':'record_index',\n",
    "                       'dteday' : 'datetime',\n",
    "                       'yr'     : 'year',\n",
    "                       'mnth'   : 'month',\n",
    "                       'weathersit':'weather_status',\n",
    "                       'atemp'  : 'feeling_temp',\n",
    "                       'hum'    : 'humidity',\n",
    "                       'cnt' : 'shring_count' },\n",
    "           inplace = True);\n",
    "                       \n",
    "bs.head(5)"
   ]
  },
  {
   "cell_type": "code",
   "execution_count": 81,
   "id": "d1c52f6d-87b3-4306-82af-a4f1537c6f85",
   "metadata": {
    "tags": []
   },
   "outputs": [
    {
     "data": {
      "text/plain": [
       "record_index               int64\n",
       "datetime          datetime64[ns]\n",
       "season                  category\n",
       "year                    category\n",
       "month                   category\n",
       "holiday                 category\n",
       "weekday                 category\n",
       "workingday              category\n",
       "weather_status          category\n",
       "temp                     float64\n",
       "feeling_temp             float64\n",
       "humidity                 float64\n",
       "windspeed                float64\n",
       "casual                     int64\n",
       "registered                 int64\n",
       "shring_count               int64\n",
       "dtype: object"
      ]
     },
     "execution_count": 81,
     "metadata": {},
     "output_type": "execute_result"
    }
   ],
   "source": [
    "#null value treatement\n",
    "bs['datetime'] = pd.to_datetime(bs.datetime)\n",
    "bs['season'] = bs.season.astype('category')\n",
    "bs['year'] = bs.year.astype('category')\n",
    "bs['month'] = bs.month.astype('category')\n",
    "bs['holiday'] = bs.holiday.astype('category')\n",
    "bs['weekday'] = bs.weekday.astype('category')\n",
    "bs['workingday'] = bs.workingday.astype('category')\n",
    "bs['weather_status'] = bs.weather_status.astype('category')\n",
    "bs.dtypes"
   ]
  },
  {
   "cell_type": "code",
   "execution_count": 82,
   "id": "b8554093-737f-4ac6-8c66-c9cbd3824a5e",
   "metadata": {
    "tags": []
   },
   "outputs": [
    {
     "data": {
      "text/html": [
       "<div>\n",
       "<style scoped>\n",
       "    .dataframe tbody tr th:only-of-type {\n",
       "        vertical-align: middle;\n",
       "    }\n",
       "\n",
       "    .dataframe tbody tr th {\n",
       "        vertical-align: top;\n",
       "    }\n",
       "\n",
       "    .dataframe thead th {\n",
       "        text-align: right;\n",
       "    }\n",
       "</style>\n",
       "<table border=\"1\" class=\"dataframe\">\n",
       "  <thead>\n",
       "    <tr style=\"text-align: right;\">\n",
       "      <th></th>\n",
       "      <th>record_index</th>\n",
       "      <th>temp</th>\n",
       "      <th>feeling_temp</th>\n",
       "      <th>humidity</th>\n",
       "      <th>windspeed</th>\n",
       "      <th>casual</th>\n",
       "      <th>registered</th>\n",
       "      <th>shring_count</th>\n",
       "    </tr>\n",
       "  </thead>\n",
       "  <tbody>\n",
       "    <tr>\n",
       "      <th>count</th>\n",
       "      <td>730.000000</td>\n",
       "      <td>730.000000</td>\n",
       "      <td>730.000000</td>\n",
       "      <td>730.000000</td>\n",
       "      <td>730.000000</td>\n",
       "      <td>730.000000</td>\n",
       "      <td>730.000000</td>\n",
       "      <td>730.000000</td>\n",
       "    </tr>\n",
       "    <tr>\n",
       "      <th>mean</th>\n",
       "      <td>365.500000</td>\n",
       "      <td>20.319259</td>\n",
       "      <td>23.726322</td>\n",
       "      <td>62.765175</td>\n",
       "      <td>12.763620</td>\n",
       "      <td>849.249315</td>\n",
       "      <td>3658.757534</td>\n",
       "      <td>4508.006849</td>\n",
       "    </tr>\n",
       "    <tr>\n",
       "      <th>std</th>\n",
       "      <td>210.877136</td>\n",
       "      <td>7.506729</td>\n",
       "      <td>8.150308</td>\n",
       "      <td>14.237589</td>\n",
       "      <td>5.195841</td>\n",
       "      <td>686.479875</td>\n",
       "      <td>1559.758728</td>\n",
       "      <td>1936.011647</td>\n",
       "    </tr>\n",
       "    <tr>\n",
       "      <th>min</th>\n",
       "      <td>1.000000</td>\n",
       "      <td>2.424346</td>\n",
       "      <td>3.953480</td>\n",
       "      <td>0.000000</td>\n",
       "      <td>1.500244</td>\n",
       "      <td>2.000000</td>\n",
       "      <td>20.000000</td>\n",
       "      <td>22.000000</td>\n",
       "    </tr>\n",
       "    <tr>\n",
       "      <th>25%</th>\n",
       "      <td>183.250000</td>\n",
       "      <td>13.811885</td>\n",
       "      <td>16.889713</td>\n",
       "      <td>52.000000</td>\n",
       "      <td>9.041650</td>\n",
       "      <td>316.250000</td>\n",
       "      <td>2502.250000</td>\n",
       "      <td>3169.750000</td>\n",
       "    </tr>\n",
       "    <tr>\n",
       "      <th>50%</th>\n",
       "      <td>365.500000</td>\n",
       "      <td>20.465826</td>\n",
       "      <td>24.368225</td>\n",
       "      <td>62.625000</td>\n",
       "      <td>12.125325</td>\n",
       "      <td>717.000000</td>\n",
       "      <td>3664.500000</td>\n",
       "      <td>4548.500000</td>\n",
       "    </tr>\n",
       "    <tr>\n",
       "      <th>75%</th>\n",
       "      <td>547.750000</td>\n",
       "      <td>26.880615</td>\n",
       "      <td>30.445775</td>\n",
       "      <td>72.989575</td>\n",
       "      <td>15.625589</td>\n",
       "      <td>1096.500000</td>\n",
       "      <td>4783.250000</td>\n",
       "      <td>5966.000000</td>\n",
       "    </tr>\n",
       "    <tr>\n",
       "      <th>max</th>\n",
       "      <td>730.000000</td>\n",
       "      <td>35.328347</td>\n",
       "      <td>42.044800</td>\n",
       "      <td>97.250000</td>\n",
       "      <td>34.000021</td>\n",
       "      <td>3410.000000</td>\n",
       "      <td>6946.000000</td>\n",
       "      <td>8714.000000</td>\n",
       "    </tr>\n",
       "  </tbody>\n",
       "</table>\n",
       "</div>"
      ],
      "text/plain": [
       "       record_index        temp  feeling_temp    humidity   windspeed  \\\n",
       "count    730.000000  730.000000    730.000000  730.000000  730.000000   \n",
       "mean     365.500000   20.319259     23.726322   62.765175   12.763620   \n",
       "std      210.877136    7.506729      8.150308   14.237589    5.195841   \n",
       "min        1.000000    2.424346      3.953480    0.000000    1.500244   \n",
       "25%      183.250000   13.811885     16.889713   52.000000    9.041650   \n",
       "50%      365.500000   20.465826     24.368225   62.625000   12.125325   \n",
       "75%      547.750000   26.880615     30.445775   72.989575   15.625589   \n",
       "max      730.000000   35.328347     42.044800   97.250000   34.000021   \n",
       "\n",
       "            casual   registered  shring_count  \n",
       "count   730.000000   730.000000    730.000000  \n",
       "mean    849.249315  3658.757534   4508.006849  \n",
       "std     686.479875  1559.758728   1936.011647  \n",
       "min       2.000000    20.000000     22.000000  \n",
       "25%     316.250000  2502.250000   3169.750000  \n",
       "50%     717.000000  3664.500000   4548.500000  \n",
       "75%    1096.500000  4783.250000   5966.000000  \n",
       "max    3410.000000  6946.000000   8714.000000  "
      ]
     },
     "execution_count": 82,
     "metadata": {},
     "output_type": "execute_result"
    }
   ],
   "source": [
    "#Understand the data now\n",
    "bs.describe()"
   ]
  },
  {
   "cell_type": "code",
   "execution_count": 83,
   "id": "406300e7-b21d-45e9-845a-c1d84e599ac2",
   "metadata": {
    "tags": []
   },
   "outputs": [
    {
     "data": {
      "text/plain": [
       "record_index      0\n",
       "datetime          0\n",
       "season            0\n",
       "year              0\n",
       "month             0\n",
       "holiday           0\n",
       "weekday           0\n",
       "workingday        0\n",
       "weather_status    0\n",
       "temp              0\n",
       "feeling_temp      0\n",
       "humidity          0\n",
       "windspeed         0\n",
       "casual            0\n",
       "registered        0\n",
       "shring_count      0\n",
       "dtype: int64"
      ]
     },
     "execution_count": 83,
     "metadata": {},
     "output_type": "execute_result"
    }
   ],
   "source": [
    "# Curate Missing Values now\n",
    "bs.isnull().sum()\n",
    "# Look at the output below. There are no columns with \"Null\" values. \n",
    "# The data does not has NULL value columns"
   ]
  },
  {
   "cell_type": "code",
   "execution_count": 84,
   "id": "3037526a-ea44-4611-94c5-fb9ecf6b8a06",
   "metadata": {
    "tags": []
   },
   "outputs": [],
   "source": [
    "#bs"
   ]
  },
  {
   "cell_type": "code",
   "execution_count": 40,
   "id": "e529be3e-d109-4a18-bbca-b1aa151a1649",
   "metadata": {
    "tags": []
   },
   "outputs": [],
   "source": [
    "\"\"\"\n",
    "Press ===> Shift + tab ==> you will get all the options\n",
    "\"\"\"\n",
    "sns.barplot()"
   ]
  },
  {
   "cell_type": "code",
   "execution_count": 41,
   "id": "ff68f59c-bd5a-4847-aa60-cf3951eb81d6",
   "metadata": {
    "tags": []
   },
   "outputs": [
    {
     "data": {
      "text/plain": [
       "record_index               int64\n",
       "datetime          datetime64[ns]\n",
       "season                  category\n",
       "year                    category\n",
       "month                   category\n",
       "holiday                 category\n",
       "weekday                 category\n",
       "workingday              category\n",
       "weather_status          category\n",
       "temp                     float64\n",
       "feeling_temp             float64\n",
       "humidity                 float64\n",
       "windspeed                float64\n",
       "casual                     int64\n",
       "registered                 int64\n",
       "count                      int64\n",
       "dtype: object"
      ]
     },
     "execution_count": 41,
     "metadata": {},
     "output_type": "execute_result"
    }
   ],
   "source": [
    "\"\"\"\n",
    "Signature:\n",
    "sns.barplot(\n",
    "    data=None,\n",
    "    *,\n",
    "    x=None,\n",
    "    y=None,\n",
    "    hue=None,  //categorical data\n",
    "    order=None,\n",
    "    hue_order=None,\n",
    "    estimator='mean',\n",
    "    errorbar=('ci', 95),\n",
    "    n_boot=1000,\n",
    "    units=None,\n",
    "    seed=None,\n",
    "    orient=None,\n",
    "    color=None,\n",
    "    palette=None,\n",
    "    saturation=0.75,\n",
    "    width=0.8,\n",
    "    errcolor='.26',\n",
    "    errwidth=None,\n",
    "    capsize=None,\n",
    "    dodge=True,\n",
    "    ci='deprecated',\n",
    "    ax=None,\n",
    "    **kwargs,\n",
    ")\n",
    "\"\"\"\n",
    "bs.dtypes"
   ]
  },
  {
   "cell_type": "code",
   "execution_count": 86,
   "id": "16884aeb-dd14-430b-a1d2-c9b4772456d4",
   "metadata": {
    "tags": []
   },
   "outputs": [
    {
     "data": {
      "text/plain": [
       "<Axes: xlabel='month', ylabel='shring_count'>"
      ]
     },
     "execution_count": 86,
     "metadata": {},
     "output_type": "execute_result"
    },
    {
     "data": {
      "image/png": "[encoded data removed]",
      "text/plain": [
       "<Figure size 640x480 with 1 Axes>"
      ]
     },
     "metadata": {},
     "output_type": "display_data"
    }
   ],
   "source": [
    "# count of total rental bikes including both casual and registered on monthly basis\n",
    "sns.barplot(x='month', y='shring_count', data= bs,hue='season', ci=20)\n",
    "# season wise bike sharing count on monthly basis. \n",
    "# In Jan 2000 bike sharing count is there and Feb ~3K, March ~3.5K, April 4K etc\n",
    "# season 3 has seen highest bike sharing count (6th month - 9th month)\n",
    "# Less bike sharing in first season \n",
    "# Hence season, month are the critical parameters "
   ]
  },
  {
   "cell_type": "code",
   "execution_count": 87,
   "id": "9ab396c3-bddd-4125-8b60-b820bda16d05",
   "metadata": {
    "tags": []
   },
   "outputs": [
    {
     "data": {
      "image/png": "[encoded data removed]",
      "text/plain": [
       "<Figure size 640x480 with 1 Axes>"
      ]
     },
     "metadata": {},
     "output_type": "display_data"
    }
   ],
   "source": [
    "# season wise bike sharing count on Yearly basis. \n",
    "# In Jan 2000 bike sharing count is there and Feb ~3.5K, March ~3.5K, April 4.5K etc\n",
    "# season 3 has seen highest bike sharing count (6th month - 9th month)\n",
    "# Less bike sharing in first season \n",
    "# Hence season, month, Year are the critical parameters \n",
    "# The bike sharing volume has been increased in the year of 2019 when compared to 2018.\n",
    "sns.barplot(x='year', y='shring_count', hue='season', data=bs)\n",
    "plt.show()"
   ]
  },
  {
   "cell_type": "code",
   "execution_count": 88,
   "id": "cd56f675-3961-412a-8556-5ac8f544124a",
   "metadata": {
    "tags": []
   },
   "outputs": [
    {
     "data": {
      "text/plain": [
       "<Axes: xlabel='holiday', ylabel='shring_count'>"
      ]
     },
     "execution_count": 88,
     "metadata": {},
     "output_type": "execute_result"
    },
    {
     "data": {
      "image/png": "[encoded data removed]",
      "text/plain": [
       "<Figure size 640x480 with 1 Axes>"
      ]
     },
     "metadata": {},
     "output_type": "display_data"
    }
   ],
   "source": [
    "# season wise bike sharing count on holidays. \n",
    "# season 3 has seen highest bike sharing count (6th month - 9th month)\n",
    "# Less bike sharing in first season \n",
    "# Hence season, month are the critical parameters \n",
    "\n",
    "sns.barplot(x='holiday', y='shring_count', data=bs, hue='season')\n",
    "\n",
    "# Finding : holiday is 1, not holiday is 0\n",
    "# The bike sharing is more in \"Not Holidays\"\n"
   ]
  },
  {
   "cell_type": "code",
   "execution_count": 89,
   "id": "02b77204-0322-4c36-b693-78d90ed9f9c4",
   "metadata": {
    "tags": []
   },
   "outputs": [
    {
     "data": {
      "text/plain": [
       "<Axes: xlabel='season', ylabel='shring_count'>"
      ]
     },
     "execution_count": 89,
     "metadata": {},
     "output_type": "execute_result"
    },
    {
     "data": {
      "image/png": "[encoded data removed]",
      "text/plain": [
       "<Figure size 640x480 with 1 Axes>"
      ]
     },
     "metadata": {},
     "output_type": "display_data"
    }
   ],
   "source": [
    "# The bike sharing is more when there is clear environment, few clouds and no rain.\n",
    "# Weather condition is also a critical parameter.\n",
    "sns.barplot(x='season', y='shring_count', data=bs, ci=100, hue='weather_status')"
   ]
  },
  {
   "cell_type": "markdown",
   "id": "dfd6d8df-b2b0-4278-a28e-615aae84c030",
   "metadata": {
    "tags": []
   },
   "source": [
    "# Find Outlier"
   ]
  },
  {
   "cell_type": "code",
   "execution_count": 91,
   "id": "35806620-ccf7-410a-9763-ebc613a1a93e",
   "metadata": {
    "tags": []
   },
   "outputs": [
    {
     "data": {
      "text/plain": [
       "<Axes: >"
      ]
     },
     "execution_count": 91,
     "metadata": {},
     "output_type": "execute_result"
    },
    {
     "data": {
      "image/png": "[encoded data removed]",
      "text/plain": [
       "<Figure size 640x480 with 1 Axes>"
      ]
     },
     "metadata": {},
     "output_type": "display_data"
    }
   ],
   "source": [
    "# Surprisingly No Outliers\n",
    "sns.boxplot(data=bs[['shring_count']])"
   ]
  },
  {
   "cell_type": "code",
   "execution_count": 92,
   "id": "201d99ab-aa82-48d8-b2e4-e83f4d322420",
   "metadata": {
    "tags": []
   },
   "outputs": [
    {
     "data": {
      "text/plain": [
       "<Axes: >"
      ]
     },
     "execution_count": 92,
     "metadata": {},
     "output_type": "execute_result"
    },
    {
     "data": {
      "image/png": "[encoded data removed]",
      "text/plain": [
       "<Figure size 640x480 with 1 Axes>"
      ]
     },
     "metadata": {},
     "output_type": "display_data"
    }
   ],
   "source": [
    "# Found two pointers which indicate the outliers in 'humid' climate\n",
    "# Found two pointers which indicate the outliers in 'windspeed' climate\n",
    "sns.boxplot(data=bs[['temp','windspeed','humidity']])"
   ]
  },
  {
   "cell_type": "code",
   "execution_count": 93,
   "id": "bd5bfbcd-3389-4685-a2bb-cbfb4b004fb4",
   "metadata": {
    "tags": []
   },
   "outputs": [],
   "source": [
    "#create dataframe for outliers\n",
    "humidityOfWind=pd.DataFrame(bs,columns=['windspeed','humidity'])\n",
    " #Cnames for outliers                     \n",
    "cnames=['windspeed','humidity']       \n",
    "                      \n",
    "for i in cnames:\n",
    "    q75,q25=np.percentile(humidityOfWind.loc[:,i],[75,25]) # Divide it by 75% quantile and 25% quantile.\n",
    "    iqr=q75-q25 #range of Inter quantile \n",
    "    max=q75+(iqr*1.5) \n",
    "    min=q25-(iqr*1.5) \n",
    "    humidityOfWind.loc[humidityOfWind.loc[:,i]<min,:i]=np.nan  # put it as NA\n",
    "    humidityOfWind.loc[humidityOfWind.loc[:,i]>max,:i]=np.nan  # put it as NA\n",
    "# addition of outlier by mean\n",
    "humidityOfWind['humidity']=humidityOfWind['humidity'].fillna(humidityOfWind['humidity'].mean())\n",
    "humidityOfWind['windspeed']=humidityOfWind['windspeed'].fillna(humidityOfWind['windspeed'].mean())"
   ]
  },
  {
   "cell_type": "code",
   "execution_count": 94,
   "id": "23b0012a-f7cf-4aa2-b897-d3dba03f4d93",
   "metadata": {
    "tags": []
   },
   "outputs": [
    {
     "data": {
      "text/html": [
       "<div>\n",
       "<style scoped>\n",
       "    .dataframe tbody tr th:only-of-type {\n",
       "        vertical-align: middle;\n",
       "    }\n",
       "\n",
       "    .dataframe tbody tr th {\n",
       "        vertical-align: top;\n",
       "    }\n",
       "\n",
       "    .dataframe thead th {\n",
       "        text-align: right;\n",
       "    }\n",
       "</style>\n",
       "<table border=\"1\" class=\"dataframe\">\n",
       "  <thead>\n",
       "    <tr style=\"text-align: right;\">\n",
       "      <th></th>\n",
       "      <th>record_index</th>\n",
       "      <th>datetime</th>\n",
       "      <th>season</th>\n",
       "      <th>year</th>\n",
       "      <th>month</th>\n",
       "      <th>holiday</th>\n",
       "      <th>weekday</th>\n",
       "      <th>workingday</th>\n",
       "      <th>weather_status</th>\n",
       "      <th>temp</th>\n",
       "      <th>feeling_temp</th>\n",
       "      <th>humidity</th>\n",
       "      <th>windspeed</th>\n",
       "      <th>casual</th>\n",
       "      <th>registered</th>\n",
       "      <th>shring_count</th>\n",
       "    </tr>\n",
       "  </thead>\n",
       "  <tbody>\n",
       "    <tr>\n",
       "      <th>0</th>\n",
       "      <td>1</td>\n",
       "      <td>2018-01-01</td>\n",
       "      <td>1</td>\n",
       "      <td>0</td>\n",
       "      <td>1</td>\n",
       "      <td>0</td>\n",
       "      <td>6</td>\n",
       "      <td>0</td>\n",
       "      <td>2</td>\n",
       "      <td>14.110847</td>\n",
       "      <td>18.18125</td>\n",
       "      <td>80.5833</td>\n",
       "      <td>10.749882</td>\n",
       "      <td>331</td>\n",
       "      <td>654</td>\n",
       "      <td>985</td>\n",
       "    </tr>\n",
       "    <tr>\n",
       "      <th>1</th>\n",
       "      <td>2</td>\n",
       "      <td>2018-02-01</td>\n",
       "      <td>1</td>\n",
       "      <td>0</td>\n",
       "      <td>1</td>\n",
       "      <td>0</td>\n",
       "      <td>0</td>\n",
       "      <td>0</td>\n",
       "      <td>2</td>\n",
       "      <td>14.902598</td>\n",
       "      <td>17.68695</td>\n",
       "      <td>69.6087</td>\n",
       "      <td>16.652113</td>\n",
       "      <td>131</td>\n",
       "      <td>670</td>\n",
       "      <td>801</td>\n",
       "    </tr>\n",
       "    <tr>\n",
       "      <th>2</th>\n",
       "      <td>3</td>\n",
       "      <td>2018-03-01</td>\n",
       "      <td>1</td>\n",
       "      <td>0</td>\n",
       "      <td>1</td>\n",
       "      <td>0</td>\n",
       "      <td>1</td>\n",
       "      <td>1</td>\n",
       "      <td>1</td>\n",
       "      <td>8.050924</td>\n",
       "      <td>9.47025</td>\n",
       "      <td>43.7273</td>\n",
       "      <td>16.636703</td>\n",
       "      <td>120</td>\n",
       "      <td>1229</td>\n",
       "      <td>1349</td>\n",
       "    </tr>\n",
       "    <tr>\n",
       "      <th>3</th>\n",
       "      <td>4</td>\n",
       "      <td>2018-04-01</td>\n",
       "      <td>1</td>\n",
       "      <td>0</td>\n",
       "      <td>1</td>\n",
       "      <td>0</td>\n",
       "      <td>2</td>\n",
       "      <td>1</td>\n",
       "      <td>1</td>\n",
       "      <td>8.200000</td>\n",
       "      <td>10.60610</td>\n",
       "      <td>59.0435</td>\n",
       "      <td>10.739832</td>\n",
       "      <td>108</td>\n",
       "      <td>1454</td>\n",
       "      <td>1562</td>\n",
       "    </tr>\n",
       "    <tr>\n",
       "      <th>4</th>\n",
       "      <td>5</td>\n",
       "      <td>2018-05-01</td>\n",
       "      <td>1</td>\n",
       "      <td>0</td>\n",
       "      <td>1</td>\n",
       "      <td>0</td>\n",
       "      <td>3</td>\n",
       "      <td>1</td>\n",
       "      <td>1</td>\n",
       "      <td>9.305237</td>\n",
       "      <td>11.46350</td>\n",
       "      <td>43.6957</td>\n",
       "      <td>12.522300</td>\n",
       "      <td>82</td>\n",
       "      <td>1518</td>\n",
       "      <td>1600</td>\n",
       "    </tr>\n",
       "  </tbody>\n",
       "</table>\n",
       "</div>"
      ],
      "text/plain": [
       "   record_index   datetime season year month holiday weekday workingday  \\\n",
       "0             1 2018-01-01      1    0     1       0       6          0   \n",
       "1             2 2018-02-01      1    0     1       0       0          0   \n",
       "2             3 2018-03-01      1    0     1       0       1          1   \n",
       "3             4 2018-04-01      1    0     1       0       2          1   \n",
       "4             5 2018-05-01      1    0     1       0       3          1   \n",
       "\n",
       "  weather_status       temp  feeling_temp  humidity  windspeed  casual  \\\n",
       "0              2  14.110847      18.18125   80.5833  10.749882     331   \n",
       "1              2  14.902598      17.68695   69.6087  16.652113     131   \n",
       "2              1   8.050924       9.47025   43.7273  16.636703     120   \n",
       "3              1   8.200000      10.60610   59.0435  10.739832     108   \n",
       "4              1   9.305237      11.46350   43.6957  12.522300      82   \n",
       "\n",
       "   registered  shring_count  \n",
       "0         654           985  \n",
       "1         670           801  \n",
       "2        1229          1349  \n",
       "3        1454          1562  \n",
       "4        1518          1600  "
      ]
     },
     "execution_count": 94,
     "metadata": {},
     "output_type": "execute_result"
    }
   ],
   "source": [
    "# adding humidity column values\n",
    "bs['humidity']=bs['humidity'].replace(humidityOfWind['humidity'])\n",
    "#Replacing the imputated windspeed\n",
    "bs['windspeed']=bs['windspeed'].replace(humidityOfWind['windspeed'])\n",
    "bs.head(5)"
   ]
  },
  {
   "cell_type": "code",
   "execution_count": 106,
   "id": "f678b941-12f4-4e31-9401-1193aaf9c4b3",
   "metadata": {
    "tags": []
   },
   "outputs": [
    {
     "data": {
      "text/plain": [
       "(511, 14)"
      ]
     },
     "metadata": {},
     "output_type": "display_data"
    },
    {
     "data": {
      "text/plain": [
       "(219, 14)"
      ]
     },
     "metadata": {},
     "output_type": "display_data"
    },
    {
     "data": {
      "text/plain": [
       "(511, 2)"
      ]
     },
     "metadata": {},
     "output_type": "display_data"
    },
    {
     "data": {
      "text/plain": [
       "(219, 2)"
      ]
     },
     "metadata": {},
     "output_type": "display_data"
    },
    {
     "data": {
      "text/html": [
       "<div>\n",
       "<style scoped>\n",
       "    .dataframe tbody tr th:only-of-type {\n",
       "        vertical-align: middle;\n",
       "    }\n",
       "\n",
       "    .dataframe tbody tr th {\n",
       "        vertical-align: top;\n",
       "    }\n",
       "\n",
       "    .dataframe thead th {\n",
       "        text-align: right;\n",
       "    }\n",
       "</style>\n",
       "<table border=\"1\" class=\"dataframe\">\n",
       "  <thead>\n",
       "    <tr style=\"text-align: right;\">\n",
       "      <th></th>\n",
       "      <th>index</th>\n",
       "      <th>shring_count</th>\n",
       "    </tr>\n",
       "  </thead>\n",
       "  <tbody>\n",
       "    <tr>\n",
       "      <th>0</th>\n",
       "      <td>683</td>\n",
       "      <td>5445</td>\n",
       "    </tr>\n",
       "    <tr>\n",
       "      <th>1</th>\n",
       "      <td>645</td>\n",
       "      <td>5478</td>\n",
       "    </tr>\n",
       "    <tr>\n",
       "      <th>2</th>\n",
       "      <td>163</td>\n",
       "      <td>5020</td>\n",
       "    </tr>\n",
       "    <tr>\n",
       "      <th>3</th>\n",
       "      <td>360</td>\n",
       "      <td>1162</td>\n",
       "    </tr>\n",
       "    <tr>\n",
       "      <th>4</th>\n",
       "      <td>640</td>\n",
       "      <td>7572</td>\n",
       "    </tr>\n",
       "  </tbody>\n",
       "</table>\n",
       "</div>"
      ],
      "text/plain": [
       "   index  shring_count\n",
       "0    683          5445\n",
       "1    645          5478\n",
       "2    163          5020\n",
       "3    360          1162\n",
       "4    640          7572"
      ]
     },
     "metadata": {},
     "output_type": "display_data"
    },
    {
     "data": {
      "text/html": [
       "<div>\n",
       "<style scoped>\n",
       "    .dataframe tbody tr th:only-of-type {\n",
       "        vertical-align: middle;\n",
       "    }\n",
       "\n",
       "    .dataframe tbody tr th {\n",
       "        vertical-align: top;\n",
       "    }\n",
       "\n",
       "    .dataframe thead th {\n",
       "        text-align: right;\n",
       "    }\n",
       "</style>\n",
       "<table border=\"1\" class=\"dataframe\">\n",
       "  <thead>\n",
       "    <tr style=\"text-align: right;\">\n",
       "      <th></th>\n",
       "      <th>index</th>\n",
       "      <th>shring_count</th>\n",
       "    </tr>\n",
       "  </thead>\n",
       "  <tbody>\n",
       "    <tr>\n",
       "      <th>0</th>\n",
       "      <td>468</td>\n",
       "      <td>7460</td>\n",
       "    </tr>\n",
       "    <tr>\n",
       "      <th>1</th>\n",
       "      <td>148</td>\n",
       "      <td>4788</td>\n",
       "    </tr>\n",
       "    <tr>\n",
       "      <th>2</th>\n",
       "      <td>302</td>\n",
       "      <td>3331</td>\n",
       "    </tr>\n",
       "    <tr>\n",
       "      <th>3</th>\n",
       "      <td>355</td>\n",
       "      <td>3068</td>\n",
       "    </tr>\n",
       "    <tr>\n",
       "      <th>4</th>\n",
       "      <td>515</td>\n",
       "      <td>7338</td>\n",
       "    </tr>\n",
       "  </tbody>\n",
       "</table>\n",
       "</div>"
      ],
      "text/plain": [
       "   index  shring_count\n",
       "0    468          7460\n",
       "1    148          4788\n",
       "2    302          3331\n",
       "3    355          3068\n",
       "4    515          7338"
      ]
     },
     "metadata": {},
     "output_type": "display_data"
    }
   ],
   "source": [
    "# train and test data set\n",
    "from sklearn.model_selection import train_test_split\n",
    "X_train,X_test,y_train,y_test=train_test_split(bs.iloc[:,0:-3],bs.iloc[:,-1],test_size=0.3, random_state=42)\n",
    "\n",
    "#Reset train index values\n",
    "X_train.reset_index(inplace=True)\n",
    "y_train=y_train.reset_index()\n",
    "\n",
    "# Reset train index values\n",
    "X_test.reset_index(inplace=True)\n",
    "y_test=y_test.reset_index()\n",
    "\n",
    "display(X_train.shape,X_test.shape,y_train.shape,y_test.shape)\n",
    "display(y_train.head())\n",
    "display(y_test.head())"
   ]
  },
  {
   "cell_type": "code",
   "execution_count": 107,
   "id": "dbcaf237-e32f-437d-afe8-8a1621b1a12a",
   "metadata": {
    "tags": []
   },
   "outputs": [],
   "source": [
    "#Categorical and numerical features \n",
    "# Train attributes\n",
    "train_attributes=X_train[['season','month','year','weekday','holiday','workingday','weather_status','humidity','temp','windspeed']]\n",
    "# test attributes\n",
    "test_attributes=X_test[['season','month','year','weekday','holiday','workingday','humidity','temp','windspeed','weather_status']]\n",
    "# categorical attributes\n",
    "cat_attributes=['season','holiday','workingday','weather_status','year']\n",
    "#numerical attributes\n",
    "num_attributes=['temp','windspeed','humidity','month','weekday']"
   ]
  },
  {
   "cell_type": "code",
   "execution_count": 108,
   "id": "b0e73f28-d475-4a07-8afa-d5acea5f7ca8",
   "metadata": {
    "tags": []
   },
   "outputs": [
    {
     "name": "stdout",
     "output_type": "stream",
     "text": [
      "Shape of transfomed dataframe:: (511, 18)\n"
     ]
    },
    {
     "data": {
      "text/html": [
       "<div>\n",
       "<style scoped>\n",
       "    .dataframe tbody tr th:only-of-type {\n",
       "        vertical-align: middle;\n",
       "    }\n",
       "\n",
       "    .dataframe tbody tr th {\n",
       "        vertical-align: top;\n",
       "    }\n",
       "\n",
       "    .dataframe thead th {\n",
       "        text-align: right;\n",
       "    }\n",
       "</style>\n",
       "<table border=\"1\" class=\"dataframe\">\n",
       "  <thead>\n",
       "    <tr style=\"text-align: right;\">\n",
       "      <th></th>\n",
       "      <th>month</th>\n",
       "      <th>weekday</th>\n",
       "      <th>humidity</th>\n",
       "      <th>temp</th>\n",
       "      <th>windspeed</th>\n",
       "      <th>season_1</th>\n",
       "      <th>season_2</th>\n",
       "      <th>season_3</th>\n",
       "      <th>season_4</th>\n",
       "      <th>holiday_0</th>\n",
       "      <th>holiday_1</th>\n",
       "      <th>workingday_0</th>\n",
       "      <th>workingday_1</th>\n",
       "      <th>weather_status_1</th>\n",
       "      <th>weather_status_2</th>\n",
       "      <th>weather_status_3</th>\n",
       "      <th>year_0</th>\n",
       "      <th>year_1</th>\n",
       "    </tr>\n",
       "  </thead>\n",
       "  <tbody>\n",
       "    <tr>\n",
       "      <th>0</th>\n",
       "      <td>11</td>\n",
       "      <td>4</td>\n",
       "      <td>62.0417</td>\n",
       "      <td>13.188347</td>\n",
       "      <td>10.250129</td>\n",
       "      <td>0</td>\n",
       "      <td>0</td>\n",
       "      <td>0</td>\n",
       "      <td>1</td>\n",
       "      <td>1</td>\n",
       "      <td>0</td>\n",
       "      <td>0</td>\n",
       "      <td>1</td>\n",
       "      <td>0</td>\n",
       "      <td>1</td>\n",
       "      <td>0</td>\n",
       "      <td>0</td>\n",
       "      <td>1</td>\n",
       "    </tr>\n",
       "    <tr>\n",
       "      <th>1</th>\n",
       "      <td>10</td>\n",
       "      <td>1</td>\n",
       "      <td>70.9583</td>\n",
       "      <td>15.716653</td>\n",
       "      <td>12.708493</td>\n",
       "      <td>0</td>\n",
       "      <td>0</td>\n",
       "      <td>0</td>\n",
       "      <td>1</td>\n",
       "      <td>0</td>\n",
       "      <td>1</td>\n",
       "      <td>1</td>\n",
       "      <td>0</td>\n",
       "      <td>0</td>\n",
       "      <td>1</td>\n",
       "      <td>0</td>\n",
       "      <td>0</td>\n",
       "      <td>1</td>\n",
       "    </tr>\n",
       "    <tr>\n",
       "      <th>2</th>\n",
       "      <td>6</td>\n",
       "      <td>1</td>\n",
       "      <td>49.4583</td>\n",
       "      <td>26.035000</td>\n",
       "      <td>20.458450</td>\n",
       "      <td>0</td>\n",
       "      <td>1</td>\n",
       "      <td>0</td>\n",
       "      <td>0</td>\n",
       "      <td>1</td>\n",
       "      <td>0</td>\n",
       "      <td>0</td>\n",
       "      <td>1</td>\n",
       "      <td>1</td>\n",
       "      <td>0</td>\n",
       "      <td>0</td>\n",
       "      <td>1</td>\n",
       "      <td>0</td>\n",
       "    </tr>\n",
       "    <tr>\n",
       "      <th>3</th>\n",
       "      <td>12</td>\n",
       "      <td>2</td>\n",
       "      <td>76.2500</td>\n",
       "      <td>13.325000</td>\n",
       "      <td>12.626150</td>\n",
       "      <td>1</td>\n",
       "      <td>0</td>\n",
       "      <td>0</td>\n",
       "      <td>0</td>\n",
       "      <td>1</td>\n",
       "      <td>0</td>\n",
       "      <td>0</td>\n",
       "      <td>1</td>\n",
       "      <td>0</td>\n",
       "      <td>1</td>\n",
       "      <td>0</td>\n",
       "      <td>1</td>\n",
       "      <td>0</td>\n",
       "    </tr>\n",
       "    <tr>\n",
       "      <th>4</th>\n",
       "      <td>10</td>\n",
       "      <td>3</td>\n",
       "      <td>79.3750</td>\n",
       "      <td>26.957500</td>\n",
       "      <td>4.458569</td>\n",
       "      <td>0</td>\n",
       "      <td>0</td>\n",
       "      <td>0</td>\n",
       "      <td>1</td>\n",
       "      <td>1</td>\n",
       "      <td>0</td>\n",
       "      <td>0</td>\n",
       "      <td>1</td>\n",
       "      <td>0</td>\n",
       "      <td>1</td>\n",
       "      <td>0</td>\n",
       "      <td>0</td>\n",
       "      <td>1</td>\n",
       "    </tr>\n",
       "  </tbody>\n",
       "</table>\n",
       "</div>"
      ],
      "text/plain": [
       "  month weekday  humidity       temp  windspeed  season_1  season_2  season_3  \\\n",
       "0    11       4   62.0417  13.188347  10.250129         0         0         0   \n",
       "1    10       1   70.9583  15.716653  12.708493         0         0         0   \n",
       "2     6       1   49.4583  26.035000  20.458450         0         1         0   \n",
       "3    12       2   76.2500  13.325000  12.626150         1         0         0   \n",
       "4    10       3   79.3750  26.957500   4.458569         0         0         0   \n",
       "\n",
       "   season_4  holiday_0  holiday_1  workingday_0  workingday_1  \\\n",
       "0         1          1          0             0             1   \n",
       "1         1          0          1             1             0   \n",
       "2         0          1          0             0             1   \n",
       "3         0          1          0             0             1   \n",
       "4         1          1          0             0             1   \n",
       "\n",
       "   weather_status_1  weather_status_2  weather_status_3  year_0  year_1  \n",
       "0                 0                 1                 0       0       1  \n",
       "1                 0                 1                 0       0       1  \n",
       "2                 1                 0                 0       1       0  \n",
       "3                 0                 1                 0       1       0  \n",
       "4                 0                 1                 0       0       1  "
      ]
     },
     "execution_count": 108,
     "metadata": {},
     "output_type": "execute_result"
    }
   ],
   "source": [
    "# Encode the categorical features to numeric which takes value 1 or 0\n",
    "\n",
    "train_encoded_attributes=pd.get_dummies(train_attributes,columns=cat_attributes)\n",
    "print('Shape of transfomed dataframe::',train_encoded_attributes.shape)\n",
    "train_encoded_attributes.head(5)"
   ]
  },
  {
   "cell_type": "code",
   "execution_count": 109,
   "id": "566032ce-ae89-4c14-acf9-2d2928fe6a62",
   "metadata": {
    "tags": []
   },
   "outputs": [],
   "source": [
    "#Training datast\n",
    "\n",
    "X_train=train_encoded_attributes\n",
    "y_train=y_train.shring_count.values"
   ]
  },
  {
   "cell_type": "code",
   "execution_count": 110,
   "id": "c2955162-ea08-4b2f-b79d-df603d33a4d1",
   "metadata": {
    "tags": []
   },
   "outputs": [
    {
     "data": {
      "text/html": [
       "<style>#sk-container-id-1 {color: black;}#sk-container-id-1 pre{padding: 0;}#sk-container-id-1 div.sk-toggleable {background-color: white;}#sk-container-id-1 label.sk-toggleable__label {cursor: pointer;display: block;width: 100%;margin-bottom: 0;padding: 0.3em;box-sizing: border-box;text-align: center;}#sk-container-id-1 label.sk-toggleable__label-arrow:before {content: \"▸\";float: left;margin-right: 0.25em;color: #696969;}#sk-container-id-1 label.sk-toggleable__label-arrow:hover:before {color: black;}#sk-container-id-1 div.sk-estimator:hover label.sk-toggleable__label-arrow:before {color: black;}#sk-container-id-1 div.sk-toggleable__content {max-height: 0;max-width: 0;overflow: hidden;text-align: left;background-color: #f0f8ff;}#sk-container-id-1 div.sk-toggleable__content pre {margin: 0.2em;color: black;border-radius: 0.25em;background-color: #f0f8ff;}#sk-container-id-1 input.sk-toggleable__control:checked~div.sk-toggleable__content {max-height: 200px;max-width: 100%;overflow: auto;}#sk-container-id-1 input.sk-toggleable__control:checked~label.sk-toggleable__label-arrow:before {content: \"▾\";}#sk-container-id-1 div.sk-estimator input.sk-toggleable__control:checked~label.sk-toggleable__label {background-color: #d4ebff;}#sk-container-id-1 div.sk-label input.sk-toggleable__control:checked~label.sk-toggleable__label {background-color: #d4ebff;}#sk-container-id-1 input.sk-hidden--visually {border: 0;clip: rect(1px 1px 1px 1px);clip: rect(1px, 1px, 1px, 1px);height: 1px;margin: -1px;overflow: hidden;padding: 0;position: absolute;width: 1px;}#sk-container-id-1 div.sk-estimator {font-family: monospace;background-color: #f0f8ff;border: 1px dotted black;border-radius: 0.25em;box-sizing: border-box;margin-bottom: 0.5em;}#sk-container-id-1 div.sk-estimator:hover {background-color: #d4ebff;}#sk-container-id-1 div.sk-parallel-item::after {content: \"\";width: 100%;border-bottom: 1px solid gray;flex-grow: 1;}#sk-container-id-1 div.sk-label:hover label.sk-toggleable__label {background-color: #d4ebff;}#sk-container-id-1 div.sk-serial::before {content: \"\";position: absolute;border-left: 1px solid gray;box-sizing: border-box;top: 0;bottom: 0;left: 50%;z-index: 0;}#sk-container-id-1 div.sk-serial {display: flex;flex-direction: column;align-items: center;background-color: white;padding-right: 0.2em;padding-left: 0.2em;position: relative;}#sk-container-id-1 div.sk-item {position: relative;z-index: 1;}#sk-container-id-1 div.sk-parallel {display: flex;align-items: stretch;justify-content: center;background-color: white;position: relative;}#sk-container-id-1 div.sk-item::before, #sk-container-id-1 div.sk-parallel-item::before {content: \"\";position: absolute;border-left: 1px solid gray;box-sizing: border-box;top: 0;bottom: 0;left: 50%;z-index: -1;}#sk-container-id-1 div.sk-parallel-item {display: flex;flex-direction: column;z-index: 1;position: relative;background-color: white;}#sk-container-id-1 div.sk-parallel-item:first-child::after {align-self: flex-end;width: 50%;}#sk-container-id-1 div.sk-parallel-item:last-child::after {align-self: flex-start;width: 50%;}#sk-container-id-1 div.sk-parallel-item:only-child::after {width: 0;}#sk-container-id-1 div.sk-dashed-wrapped {border: 1px dashed gray;margin: 0 0.4em 0.5em 0.4em;box-sizing: border-box;padding-bottom: 0.4em;background-color: white;}#sk-container-id-1 div.sk-label label {font-family: monospace;font-weight: bold;display: inline-block;line-height: 1.2em;}#sk-container-id-1 div.sk-label-container {text-align: center;}#sk-container-id-1 div.sk-container {/* jupyter's `normalize.less` sets `[hidden] { display: none; }` but bootstrap.min.css set `[hidden] { display: none !important; }` so we also need the `!important` here to be able to override the default hidden behavior on the sphinx rendered scikit-learn.org. See: https://github.com/scikit-learn/scikit-learn/issues/21755 */display: inline-block !important;position: relative;}#sk-container-id-1 div.sk-text-repr-fallback {display: none;}</style><div id=\"sk-container-id-1\" class=\"sk-top-container\"><div class=\"sk-text-repr-fallback\"><pre>LinearRegression()</pre><b>In a Jupyter environment, please rerun this cell to show the HTML representation or trust the notebook. <br />On GitHub, the HTML representation is unable to render, please try loading this page with nbviewer.org.</b></div><div class=\"sk-container\" hidden><div class=\"sk-item\"><div class=\"sk-estimator sk-toggleable\"><input class=\"sk-toggleable__control sk-hidden--visually\" id=\"sk-estimator-id-1\" type=\"checkbox\" checked><label for=\"sk-estimator-id-1\" class=\"sk-toggleable__label sk-toggleable__label-arrow\">LinearRegression</label><div class=\"sk-toggleable__content\"><pre>LinearRegression()</pre></div></div></div></div></div>"
      ],
      "text/plain": [
       "LinearRegression()"
      ]
     },
     "execution_count": 110,
     "metadata": {},
     "output_type": "execute_result"
    }
   ],
   "source": [
    "# fit the model\n",
    "from sklearn import preprocessing,metrics,linear_model\n",
    "from sklearn.model_selection import cross_val_score,cross_val_predict,train_test_split\n",
    "\n",
    "lr_model=linear_model.LinearRegression()\n",
    "lr_model\n",
    "lr_model.fit(X_train,y_train)\n",
    "lr_model"
   ]
  },
  {
   "cell_type": "code",
   "execution_count": 111,
   "id": "e917f893-d348-4afe-97db-24c536533ed4",
   "metadata": {
    "tags": []
   },
   "outputs": [
    {
     "name": "stdout",
     "output_type": "stream",
     "text": [
      "Accuracy of the model : 0.8235146581358161\n",
      "Model coefficients : [  -34.97049205    60.43458209    -8.71287554   121.73963622\n",
      "   -37.09175176 -1067.52997878   220.84667408    11.86386013\n",
      "   834.81944457   241.59235767  -241.59235767   -74.74603934\n",
      "    74.74603934   802.85526546   297.38891277 -1100.24417823\n",
      "  -991.82798863   991.82798863]\n",
      "Model intercept value : 2232.8811280208624\n"
     ]
    }
   ],
   "source": [
    "#Accuracy of the model\n",
    "lr=lr_model.score(X_train,y_train)\n",
    "print('Accuracy of the model :',lr)\n",
    "print('Model coefficients :',lr_model.coef_)\n",
    "print('Model intercept value :',lr_model.intercept_)"
   ]
  },
  {
   "cell_type": "code",
   "execution_count": 117,
   "id": "9dd8c8dd-e19d-4f90-9c7b-ddb7d23601f0",
   "metadata": {
    "tags": []
   },
   "outputs": [
    {
     "data": {
      "text/plain": [
       "<matplotlib.lines.Line2D at 0x2011dea2810>"
      ]
     },
     "execution_count": 117,
     "metadata": {},
     "output_type": "execute_result"
    },
    {
     "data": {
      "image/png": "[encoded data removed]",
      "text/plain": [
       "<Figure size 1600x800 with 1 Axes>"
      ]
     },
     "metadata": {},
     "output_type": "display_data"
    }
   ],
   "source": [
    "# prediction\n",
    "prediction=cross_val_predict(lr_model,X_train,y_train,cv=3)\n",
    "#Cross validation plot\n",
    "fig,ax=plt.subplots(figsize=(16,8))\n",
    "ax.set_title('prediction plot for Cross validation')\n",
    "ax.set_xlabel('Observed')\n",
    "ax.set_ylabel('Residual')\n",
    "ax.scatter(y_train,y_train-predict)\n",
    "ax.axhline(lw=2,color='red')\n",
    "\n",
    "plt.show()\n",
    "# plot states that th finite variance between actual target value and predicted target value\n",
    "#some data points have same finite variance between them, and some are not having it."
   ]
  },
  {
   "cell_type": "code",
   "execution_count": 118,
   "id": "6b85ef50-c78b-4db6-bb1d-0a07ff2e913c",
   "metadata": {
    "tags": []
   },
   "outputs": [
    {
     "name": "stdout",
     "output_type": "stream",
     "text": [
      "Shape of transformed dataframe : (219, 18)\n"
     ]
    },
    {
     "data": {
      "text/html": [
       "<div>\n",
       "<style scoped>\n",
       "    .dataframe tbody tr th:only-of-type {\n",
       "        vertical-align: middle;\n",
       "    }\n",
       "\n",
       "    .dataframe tbody tr th {\n",
       "        vertical-align: top;\n",
       "    }\n",
       "\n",
       "    .dataframe thead th {\n",
       "        text-align: right;\n",
       "    }\n",
       "</style>\n",
       "<table border=\"1\" class=\"dataframe\">\n",
       "  <thead>\n",
       "    <tr style=\"text-align: right;\">\n",
       "      <th></th>\n",
       "      <th>month</th>\n",
       "      <th>weekday</th>\n",
       "      <th>humidity</th>\n",
       "      <th>temp</th>\n",
       "      <th>windspeed</th>\n",
       "      <th>season_1</th>\n",
       "      <th>season_2</th>\n",
       "      <th>season_3</th>\n",
       "      <th>season_4</th>\n",
       "      <th>holiday_0</th>\n",
       "      <th>holiday_1</th>\n",
       "      <th>workingday_0</th>\n",
       "      <th>workingday_1</th>\n",
       "      <th>weather_status_1</th>\n",
       "      <th>weather_status_2</th>\n",
       "      <th>weather_status_3</th>\n",
       "      <th>year_0</th>\n",
       "      <th>year_1</th>\n",
       "    </tr>\n",
       "  </thead>\n",
       "  <tbody>\n",
       "    <tr>\n",
       "      <th>0</th>\n",
       "      <td>4</td>\n",
       "      <td>6</td>\n",
       "      <td>50.2917</td>\n",
       "      <td>20.295000</td>\n",
       "      <td>12.791439</td>\n",
       "      <td>0</td>\n",
       "      <td>1</td>\n",
       "      <td>0</td>\n",
       "      <td>0</td>\n",
       "      <td>1</td>\n",
       "      <td>0</td>\n",
       "      <td>1</td>\n",
       "      <td>0</td>\n",
       "      <td>1</td>\n",
       "      <td>0</td>\n",
       "      <td>0</td>\n",
       "      <td>0</td>\n",
       "      <td>1</td>\n",
       "    </tr>\n",
       "    <tr>\n",
       "      <th>1</th>\n",
       "      <td>5</td>\n",
       "      <td>0</td>\n",
       "      <td>81.8750</td>\n",
       "      <td>27.367500</td>\n",
       "      <td>14.333846</td>\n",
       "      <td>0</td>\n",
       "      <td>1</td>\n",
       "      <td>0</td>\n",
       "      <td>0</td>\n",
       "      <td>1</td>\n",
       "      <td>0</td>\n",
       "      <td>1</td>\n",
       "      <td>0</td>\n",
       "      <td>1</td>\n",
       "      <td>0</td>\n",
       "      <td>0</td>\n",
       "      <td>1</td>\n",
       "      <td>0</td>\n",
       "    </tr>\n",
       "    <tr>\n",
       "      <th>2</th>\n",
       "      <td>10</td>\n",
       "      <td>0</td>\n",
       "      <td>62.3750</td>\n",
       "      <td>13.085847</td>\n",
       "      <td>11.833339</td>\n",
       "      <td>0</td>\n",
       "      <td>0</td>\n",
       "      <td>0</td>\n",
       "      <td>1</td>\n",
       "      <td>1</td>\n",
       "      <td>0</td>\n",
       "      <td>1</td>\n",
       "      <td>0</td>\n",
       "      <td>1</td>\n",
       "      <td>0</td>\n",
       "      <td>0</td>\n",
       "      <td>1</td>\n",
       "      <td>0</td>\n",
       "    </tr>\n",
       "    <tr>\n",
       "      <th>3</th>\n",
       "      <td>12</td>\n",
       "      <td>4</td>\n",
       "      <td>75.7500</td>\n",
       "      <td>17.356653</td>\n",
       "      <td>3.167425</td>\n",
       "      <td>1</td>\n",
       "      <td>0</td>\n",
       "      <td>0</td>\n",
       "      <td>0</td>\n",
       "      <td>1</td>\n",
       "      <td>0</td>\n",
       "      <td>0</td>\n",
       "      <td>1</td>\n",
       "      <td>0</td>\n",
       "      <td>1</td>\n",
       "      <td>0</td>\n",
       "      <td>1</td>\n",
       "      <td>0</td>\n",
       "    </tr>\n",
       "    <tr>\n",
       "      <th>4</th>\n",
       "      <td>5</td>\n",
       "      <td>4</td>\n",
       "      <td>49.2917</td>\n",
       "      <td>27.880000</td>\n",
       "      <td>13.083693</td>\n",
       "      <td>0</td>\n",
       "      <td>1</td>\n",
       "      <td>0</td>\n",
       "      <td>0</td>\n",
       "      <td>1</td>\n",
       "      <td>0</td>\n",
       "      <td>0</td>\n",
       "      <td>1</td>\n",
       "      <td>1</td>\n",
       "      <td>0</td>\n",
       "      <td>0</td>\n",
       "      <td>0</td>\n",
       "      <td>1</td>\n",
       "    </tr>\n",
       "  </tbody>\n",
       "</table>\n",
       "</div>"
      ],
      "text/plain": [
       "  month weekday  humidity       temp  windspeed  season_1  season_2  season_3  \\\n",
       "0     4       6   50.2917  20.295000  12.791439         0         1         0   \n",
       "1     5       0   81.8750  27.367500  14.333846         0         1         0   \n",
       "2    10       0   62.3750  13.085847  11.833339         0         0         0   \n",
       "3    12       4   75.7500  17.356653   3.167425         1         0         0   \n",
       "4     5       4   49.2917  27.880000  13.083693         0         1         0   \n",
       "\n",
       "   season_4  holiday_0  holiday_1  workingday_0  workingday_1  \\\n",
       "0         0          1          0             1             0   \n",
       "1         0          1          0             1             0   \n",
       "2         1          1          0             1             0   \n",
       "3         0          1          0             0             1   \n",
       "4         0          1          0             0             1   \n",
       "\n",
       "   weather_status_1  weather_status_2  weather_status_3  year_0  year_1  \n",
       "0                 1                 0                 0       0       1  \n",
       "1                 1                 0                 0       1       0  \n",
       "2                 1                 0                 0       1       0  \n",
       "3                 0                 1                 0       1       0  \n",
       "4                 1                 0                 0       0       1  "
      ]
     },
     "execution_count": 118,
     "metadata": {},
     "output_type": "execute_result"
    }
   ],
   "source": [
    "#To get dummy variables to encode the categorical features to numeric\n",
    "test_encoded_attributes=pd.get_dummies(test_attributes,columns=cat_attributes)\n",
    "print('Shape of transformed dataframe :',test_encoded_attributes.shape)\n",
    "test_encoded_attributes.head(5)"
   ]
  },
  {
   "cell_type": "code",
   "execution_count": 119,
   "id": "c9db4b71-4205-45b4-863e-e5f9512bac9c",
   "metadata": {
    "tags": []
   },
   "outputs": [],
   "source": [
    "# prediction on test dataset\n",
    "X_test=test_encoded_attributes\n",
    "y_test=y_test.shring_count.values"
   ]
  },
  {
   "cell_type": "code",
   "execution_count": 120,
   "id": "a1770578-82a1-4c4f-906f-16b6f113bb06",
   "metadata": {
    "tags": []
   },
   "outputs": [
    {
     "data": {
      "text/plain": [
       "array([6196.04661286, 4343.42428846, 3306.55061595, 1944.84985206,\n",
       "       7110.96683875, 4669.77352708, 2098.22996151, 2570.11892772,\n",
       "       3574.40348857, 3717.4014786 , 3014.66899407, 5045.86762577,\n",
       "       1768.93908372, 3953.24671072, 5220.27615663, 3065.42472795,\n",
       "       5776.45313988, 1325.95033476, 6088.43218144, 4294.11754971,\n",
       "       3518.06685534, 4063.52153021, 4509.91665186, 5761.01268669,\n",
       "       5233.52337804, 5208.93764229, 3727.80142777,  670.96798767,\n",
       "       4939.9021794 , 1842.30786884, 3490.91253839, 3121.85019543,\n",
       "       1204.59548476, 1226.01002727, 5425.0809158 , 5227.27610161,\n",
       "       3221.1766013 , 3237.61334338,  815.60086314, 6746.23076099,\n",
       "       1759.20738765, 5799.82964097, 5027.71078114, 6260.88717647,\n",
       "       4740.34706134, 3447.80101989, 6296.38204948, 4985.5534277 ,\n",
       "       4478.33471489, 6718.80789438, 3858.79799517, 4456.01833916,\n",
       "       5853.88874918, 5474.62296493, 5491.10141876, 6916.25728827,\n",
       "       3684.66222042, 6280.56707085, 4222.51238553, 5306.3339384 ,\n",
       "       2999.93075787, 5183.49794576, 4039.16767058, 4620.09448554,\n",
       "       3506.65327613, 2679.54074321, 1499.42885387, 5969.91435377,\n",
       "       2514.00912432, 2003.41343097, 6317.31680298, 5441.55646807,\n",
       "       2288.6551744 , 2621.44695406, 6923.84211855, 3620.78271756,\n",
       "        982.37309842, 5256.26887484, 2882.80758094, 4672.4670298 ,\n",
       "       6542.3278363 , 3633.2434609 , 2633.5794215 , 4083.9243772 ,\n",
       "       4675.50895885, 3212.64480086, 6599.15354986, 3077.40061498,\n",
       "        724.07128248, 6825.89314381, 5896.98798025, 4737.84877408,\n",
       "       3572.76004591, 4170.08432253, 4852.22933516, 3360.299427  ,\n",
       "       6550.31770804, 6638.11428441, 5542.98540138, 3151.90871447,\n",
       "       2819.44332879, 6449.4453748 , 4211.01249522, 3191.6307745 ,\n",
       "       3065.39362323,  942.34975038, 4003.26240463, 1342.91786339,\n",
       "       5597.58185848, 4285.95274233, 6193.55793814, 7001.63819449,\n",
       "       1356.35288232, 6707.19639459, 5919.61777313, 1377.84020666,\n",
       "       7026.64332973, 5367.85967165, 3153.5674783 , 1300.22249159,\n",
       "       5970.4831743 , 6236.06315557, 7643.2279848 , 1884.47655442,\n",
       "       2422.61843482, 4454.31882056, 2817.76827871, 5797.4115826 ,\n",
       "       6920.62718255, 5391.34703748, 4396.71054483, 4650.29487062,\n",
       "       6537.53011488, 2494.46700154, 3709.71293753, 5841.93259529,\n",
       "       1419.45342067, 5529.57777379, 4195.70037175, 1988.58874973,\n",
       "       1977.18908692, 3798.92482985, 3830.11788256, 4492.18142318,\n",
       "       4347.37042662, 3391.88022752, 3123.2301629 , 3850.03383832,\n",
       "       6182.93920337, 4511.82138995, 3405.77419689, 3728.9227829 ,\n",
       "       1181.54148411, 3634.21168916, 2262.44250086, 5435.47880738,\n",
       "       6871.96414768, 5097.06250651, 6793.8123832 , 3562.14727058,\n",
       "       6475.41905282, 5100.14633052, 1757.81200308, 3608.67803986,\n",
       "       4603.7982706 , 1913.60377236, 7774.78785513, 6915.60792737,\n",
       "       3380.98258539, 6927.52494333, 1128.49134639, 4233.70860244,\n",
       "       4810.87876455, 7138.87640695, 4520.23636786, 3858.36453224,\n",
       "       3811.80118732, 2327.02273948,  366.92923936, 3250.45376202,\n",
       "       6633.92388924, 6991.59226082, 4388.83580584, 6348.17408577,\n",
       "       5294.20269827, 5835.99396286, 5135.0233845 , 1227.95273643,\n",
       "       6894.77408904, 3825.47927635, 2442.83638278, 5550.26777043,\n",
       "       3092.22531809, 1581.09661344, 6226.28343065, 4294.46612223,\n",
       "       1375.90706042, 5086.32597617, 5171.47120435, 4250.51959863,\n",
       "       6367.887053  , 5352.38699417, 6578.01638712, 2656.54203978,\n",
       "       4840.15055257, 3231.672006  , 6460.48500065, 4225.43460523,\n",
       "       3388.62126856, 5708.45056989, 4030.2625235 , 5210.54432116,\n",
       "       4724.70685292, 3227.22681195, 3348.19153842, 6281.00331765,\n",
       "       6935.44319244, 4052.84009545, 2927.08401003])"
      ]
     },
     "metadata": {},
     "output_type": "display_data"
    }
   ],
   "source": [
    "#predict the model\n",
    "y_pred=lr_model.predict(X_test)\n",
    "display(y_pred)"
   ]
  },
  {
   "cell_type": "code",
   "execution_count": 123,
   "id": "f7bdf238-ca45-4652-a18b-a0f7ca19e2c5",
   "metadata": {
    "tags": []
   },
   "outputs": [
    {
     "name": "stdout",
     "output_type": "stream",
     "text": [
      "Root mean square error : 802.4291866599553\n",
      "Mean absolute error : 595.244139128348\n"
     ]
    }
   ],
   "source": [
    "import math\n",
    "#Root mean square error \n",
    "rmse=math.sqrt(metrics.mean_squared_error(y_test,y_pred))\n",
    "#Mean absolute error\n",
    "mae=metrics.mean_absolute_error(y_test,y_pred)\n",
    "print('Root mean square error :',rmse)\n",
    "print('Mean absolute error :',mae)"
   ]
  },
  {
   "cell_type": "code",
   "execution_count": 125,
   "id": "65dd2239-1eee-4bf3-94d7-1ae7b669a0f8",
   "metadata": {
    "tags": []
   },
   "outputs": [
    {
     "data": {
      "image/png": "[encoded data removed]",
      "text/plain": [
       "<Figure size 1600x800 with 1 Axes>"
      ]
     },
     "metadata": {},
     "output_type": "display_data"
    }
   ],
   "source": [
    "#Residual plot\n",
    "fig, ax = plt.subplots(figsize=(16,8))\n",
    "ax.set_xlabel('Observed')\n",
    "ax.set_ylabel('Residuals')\n",
    "ax.title.set_text(\"Residual Plot\")\n",
    "ax.scatter(y_test, y_test-y_pred)\n",
    "ax.axhline(lw=2,color='black')\n",
    "\n",
    "plt.show()\n",
    "\n",
    "#Residual plot tells about finite variance between actual value and predicted target value. \n",
    "# Here,very less data points are having the same finite variance between them"
   ]
  },
  {
   "cell_type": "code",
   "execution_count": 126,
   "id": "532fc9f6-690b-43f5-92bf-c90d660a4f84",
   "metadata": {
    "tags": []
   },
   "outputs": [
    {
     "data": {
      "text/plain": [
       "0.8264702594448594"
      ]
     },
     "execution_count": 126,
     "metadata": {},
     "output_type": "execute_result"
    }
   ],
   "source": [
    "#R-squared value\n",
    "from sklearn.metrics import r2_score\n",
    "r2_score(y_test, y_pred)"
   ]
  },
  {
   "cell_type": "markdown",
   "id": "92c32de4-af24-49ee-9f58-c8256bcc8e4c",
   "metadata": {},
   "source": [
    "<a id='Observations_and_explanations'></a>\n",
    "# My Observations are explained below:\n",
    "</hr>\n",
    "\n",
    "1. Train data set : Test data set======>  ratio is 70:30.\n",
    "\n",
    "2. The bike rental count distribution is higher in 2019 than in 2018.\n",
    "3. During no holidays, the bike rental counts is the highest, compared to during holidays for different seasons.\n",
    "4. There is no significant change in bike demand with working days and non working days.\n",
    "5. During clear, partly cloudy weather, the bike rental count is the highest, second-highest during misty cloudy weather, and followed by 3rd highest, during light snow and light rain weather.\n",
    "6. Outlier analysis:<br>\n",
    "    (i) No outliers are present in total_count variable.<br>\n",
    "    (ii) No outliers are present in normalized temp but few outliers are present in normalized windspeed and humidity variables.\n",
    "7. Spring season has seen highest number of bike sharings and Summer also followes the Spring. Fall and winter seasons have seen less bike sharings.\n",
    "\n",
    "8. Training dataset:<br>\n",
    "    (i) While fitting Linear regression to our trained dataset, Accuracy of the model: 82.4 %<br>\n",
    "    (ii) Cross validation prediction plot tells about finite variance between actual target value and predicted target value. In our Cross validation prediction plot for training dataset, some data points are have same finite variance between them and some are not having it.<br>\n",
    "    (iii) Model Evaluation metrics: R-Squared (R² or the coefficient of determination) is a statistical measure in a regression model that determines the proportion of variance in the dependent variable that can be explained by the independent variable.The R-squared or coefficient of determination for our model is 0.81 on average , it means that predictor is only able to predict 81% of the variance in the target variable which is contributed by independent variables.<br>\n",
    "9. Testing dataset:<br>\n",
    "    (i) Model Evaluation metrics: Root Mean Square Error (RMSE) is the standard deviation of the residuals (prediction errors), and The mean absolute error of a model with respect to a test set is the mean of the absolute values of the individual prediction errors on over all instances in the test set.<br>\n",
    "        For our model, \n",
    "        Root mean square error : 802.4291866599553\n",
    "        Mean absolute error : 595.2441391283483\n",
    "10. Residual plot tells about finite variance between actual target value and predicted target values. In our Residual plot,very less data points are having the same finite variance between them."
   ]
  },
  {
   "cell_type": "code",
   "execution_count": null,
   "id": "cb05bdca-382e-4b88-9c9f-e22381a17aac",
   "metadata": {},
   "outputs": [],
   "source": []
  },
  {
   "cell_type": "code",
   "execution_count": null,
   "id": "50289f87-16f7-4f8c-a605-2130a35561a0",
   "metadata": {},
   "outputs": [],
   "source": []
  },
  {
   "cell_type": "code",
   "execution_count": null,
   "id": "bcad5710-49ef-4415-af1c-71d0b86eac2b",
   "metadata": {},
   "outputs": [],
   "source": []
  },
  {
   "cell_type": "code",
   "execution_count": null,
   "id": "4a96c27a-fa23-4a50-9d5a-8537fa6e9e10",
   "metadata": {},
   "outputs": [],
   "source": []
  },
  {
   "cell_type": "code",
   "execution_count": null,
   "id": "2b71bce7-80f9-41c2-965c-f1e0caf62a23",
   "metadata": {},
   "outputs": [],
   "source": []
  },
  {
   "cell_type": "code",
   "execution_count": null,
   "id": "fc70c271-d58c-4de7-b255-59bbf9d9d00e",
   "metadata": {},
   "outputs": [],
   "source": []
  },
  {
   "cell_type": "code",
   "execution_count": null,
   "id": "a8ec0fbe-8916-4a30-a7a3-6e8569196577",
   "metadata": {},
   "outputs": [],
   "source": []
  },
  {
   "cell_type": "code",
   "execution_count": null,
   "id": "488d3045-bc6e-4abe-abfa-a31a8def5573",
   "metadata": {},
   "outputs": [],
   "source": []
  },
  {
   "cell_type": "code",
   "execution_count": null,
   "id": "45e5ad26-6bd2-4708-bb93-cdee4c0603ca",
   "metadata": {},
   "outputs": [],
   "source": []
  },
  {
   "cell_type": "code",
   "execution_count": null,
   "id": "8455c63d-35c0-4af5-84be-d6fb80471615",
   "metadata": {},
   "outputs": [],
   "source": []
  },
  {
   "cell_type": "code",
   "execution_count": null,
   "id": "dca482b4-5edd-419c-a7db-64d2a376d411",
   "metadata": {},
   "outputs": [],
   "source": []
  },
  {
   "cell_type": "code",
   "execution_count": null,
   "id": "b3390a6c-61a2-4c56-b616-3d3731bc79c7",
   "metadata": {},
   "outputs": [],
   "source": []
  },
  {
   "cell_type": "code",
   "execution_count": null,
   "id": "14ee4d4c-a44b-462d-93be-c6c4b1e51ba9",
   "metadata": {},
   "outputs": [],
   "source": []
  },
  {
   "cell_type": "code",
   "execution_count": null,
   "id": "799241cf-1e30-49b6-8950-cb88763583e0",
   "metadata": {},
   "outputs": [],
   "source": []
  },
  {
   "cell_type": "code",
   "execution_count": null,
   "id": "d253a1d6-4306-43f1-9e5f-abb07d1d34a6",
   "metadata": {},
   "outputs": [],
   "source": []
  },
  {
   "cell_type": "code",
   "execution_count": null,
   "id": "67c96884-a5e0-4998-8638-d7fa71e10605",
   "metadata": {},
   "outputs": [],
   "source": []
  },
  {
   "cell_type": "code",
   "execution_count": null,
   "id": "c2bec0b7-cc9e-4783-88e2-c129e55ea445",
   "metadata": {},
   "outputs": [],
   "source": []
  },
  {
   "cell_type": "code",
   "execution_count": null,
   "id": "3f09cadf-8f14-49d6-a658-61fc94a2f26d",
   "metadata": {},
   "outputs": [],
   "source": []
  },
  {
   "cell_type": "code",
   "execution_count": null,
   "id": "89fd87b3-5018-4d6e-8f5e-81bb4e50e85d",
   "metadata": {},
   "outputs": [],
   "source": []
  },
  {
   "cell_type": "code",
   "execution_count": null,
   "id": "b6ffa43c-9c8c-48bb-9bcf-cb0098772d80",
   "metadata": {},
   "outputs": [],
   "source": []
  },
  {
   "cell_type": "code",
   "execution_count": null,
   "id": "ac9408f7-68ed-4727-a61c-599e4880c1fe",
   "metadata": {},
   "outputs": [],
   "source": []
  },
  {
   "cell_type": "code",
   "execution_count": null,
   "id": "773fe81f-0a96-4bb2-be68-adb0e12c570d",
   "metadata": {},
   "outputs": [],
   "source": []
  },
  {
   "cell_type": "code",
   "execution_count": null,
   "id": "9637a459-f029-4bd7-a23e-9caaace000de",
   "metadata": {},
   "outputs": [],
   "source": []
  },
  {
   "cell_type": "code",
   "execution_count": null,
   "id": "8a64729c-6509-413e-afd8-2043605908a9",
   "metadata": {},
   "outputs": [],
   "source": []
  },
  {
   "cell_type": "code",
   "execution_count": null,
   "id": "b160a29b-b644-4041-9844-5a32f0e0c1ff",
   "metadata": {},
   "outputs": [],
   "source": []
  }
 ],
 "metadata": {
  "kernelspec": {
   "display_name": "Python 3 (ipykernel)",
   "language": "python",
   "name": "python3"
  },
  "language_info": {
   "codemirror_mode": {
    "name": "ipython",
    "version": 3
   },
   "file_extension": ".py",
   "mimetype": "text/x-python",
   "name": "python",
   "nbconvert_exporter": "python",
   "pygments_lexer": "ipython3",
   "version": "3.11.4"
  }
 },
 "nbformat": 4,
 "nbformat_minor": 5
}
